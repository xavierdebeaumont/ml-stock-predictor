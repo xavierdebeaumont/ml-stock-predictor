{
 "cells": [
  {
   "attachments": {},
   "cell_type": "markdown",
   "id": "6bc22300",
   "metadata": {},
   "source": [
    "#### Import Dependencies"
   ]
  },
  {
   "cell_type": "code",
   "execution_count": 2,
   "id": "8aa919ad",
   "metadata": {},
   "outputs": [],
   "source": [
    "from snowflake.snowpark.session import Session\n",
    "import snowflake.snowpark.types as T\n",
    "import toml\n",
    "import pandas as pd\n",
    "from prophet import Prophet\n",
    "import json"
   ]
  },
  {
   "attachments": {},
   "cell_type": "markdown",
   "id": "b771ebb6",
   "metadata": {},
   "source": [
    "#### Load the credentials from toml and connect to Snowflake"
   ]
  },
  {
   "cell_type": "code",
   "execution_count": 3,
   "id": "89bf9c94",
   "metadata": {},
   "outputs": [],
   "source": [
    "secrets = toml.load(\"secrets.toml\")\n",
    "\n",
    "accountname = secrets[\"SNOWFLAKE\"][\"account\"]\n",
    "user = secrets[\"SNOWFLAKE\"][\"user\"]\n",
    "password = secrets[\"SNOWFLAKE\"][\"password\"]\n",
    "role = secrets[\"SNOWFLAKE\"][\"role\"]\n",
    "database = secrets[\"SNOWFLAKE\"][\"database\"]\n",
    "schema = secrets[\"SNOWFLAKE\"][\"schema\"]\n",
    "warehouse = secrets[\"SNOWFLAKE\"][\"warehouse\"]\n",
    "\n",
    "connection_parameters = {\n",
    "    \"account\": accountname,\n",
    "    \"user\": user,\n",
    "    \"password\": password,\n",
    "    \"role\": role,\n",
    "    \"database\": database,\n",
    "    \"schema\": schema,\n",
    "    \"warehouse\": warehouse,\n",
    "    \"ocsp_fail_open\":\"False\"\n",
    "}\n",
    "\n",
    "session = Session.builder.configs(connection_parameters).create()"
   ]
  },
  {
   "cell_type": "code",
   "execution_count": 4,
   "id": "e98ec830",
   "metadata": {},
   "outputs": [
    {
     "name": "stdout",
     "output_type": "stream",
     "text": [
      "[Row(CURRENT_WAREHOUSE()='STOCK_PRED_WH', CURRENT_DATABASE()='STOCK_PRED_DB', CURRENT_SCHEMA()='STOCK_PRED_SCHEMA')]\n"
     ]
    }
   ],
   "source": [
    "print(session.sql('select current_warehouse(), current_database(), current_schema()').collect())"
   ]
  },
  {
   "attachments": {},
   "cell_type": "markdown",
   "id": "ea9b6c32",
   "metadata": {},
   "source": [
    "#### Create a stage to store the procedure in snowflake"
   ]
  },
  {
   "cell_type": "code",
   "execution_count": 5,
   "id": "fd66710a",
   "metadata": {},
   "outputs": [
    {
     "data": {
      "text/plain": [
       "[Row(status='Stage area ML_MODELS successfully created.')]"
      ]
     },
     "execution_count": 5,
     "metadata": {},
     "output_type": "execute_result"
    }
   ],
   "source": [
    "session.sql('CREATE OR REPLACE STAGE ML_MODELS').collect()"
   ]
  },
  {
   "cell_type": "code",
   "execution_count": 6,
   "id": "92820ad5",
   "metadata": {},
   "outputs": [
    {
     "data": {
      "text/html": [
       "<div>\n",
       "<style scoped>\n",
       "    .dataframe tbody tr th:only-of-type {\n",
       "        vertical-align: middle;\n",
       "    }\n",
       "\n",
       "    .dataframe tbody tr th {\n",
       "        vertical-align: top;\n",
       "    }\n",
       "\n",
       "    .dataframe thead th {\n",
       "        text-align: right;\n",
       "    }\n",
       "</style>\n",
       "<table border=\"1\" class=\"dataframe\">\n",
       "  <thead>\n",
       "    <tr style=\"text-align: right;\">\n",
       "      <th></th>\n",
       "      <th>created_on</th>\n",
       "      <th>name</th>\n",
       "      <th>database_name</th>\n",
       "      <th>schema_name</th>\n",
       "      <th>url</th>\n",
       "      <th>has_credentials</th>\n",
       "      <th>has_encryption_key</th>\n",
       "      <th>owner</th>\n",
       "      <th>comment</th>\n",
       "      <th>region</th>\n",
       "      <th>type</th>\n",
       "      <th>cloud</th>\n",
       "      <th>notification_channel</th>\n",
       "      <th>storage_integration</th>\n",
       "    </tr>\n",
       "  </thead>\n",
       "  <tbody>\n",
       "    <tr>\n",
       "      <th>0</th>\n",
       "      <td>2023-06-20 00:52:23.656000-07:00</td>\n",
       "      <td>ML_MODELS</td>\n",
       "      <td>STOCK_PRED_DB</td>\n",
       "      <td>STOCK_PRED_SCHEMA</td>\n",
       "      <td></td>\n",
       "      <td>N</td>\n",
       "      <td>N</td>\n",
       "      <td>ACCOUNTADMIN</td>\n",
       "      <td></td>\n",
       "      <td>None</td>\n",
       "      <td>INTERNAL</td>\n",
       "      <td>None</td>\n",
       "      <td>None</td>\n",
       "      <td>None</td>\n",
       "    </tr>\n",
       "    <tr>\n",
       "      <th>1</th>\n",
       "      <td>2023-06-19 00:54:41.392000-07:00</td>\n",
       "      <td>PRICE_PRED_GCS_STAGE</td>\n",
       "      <td>STOCK_PRED_DB</td>\n",
       "      <td>STOCK_PRED_SCHEMA</td>\n",
       "      <td>gcs://data_lake_datatalks-386314/</td>\n",
       "      <td>N</td>\n",
       "      <td>N</td>\n",
       "      <td>ACCOUNTADMIN</td>\n",
       "      <td></td>\n",
       "      <td></td>\n",
       "      <td>EXTERNAL</td>\n",
       "      <td>GCP</td>\n",
       "      <td>None</td>\n",
       "      <td>GCS_INTEGRATION</td>\n",
       "    </tr>\n",
       "  </tbody>\n",
       "</table>\n",
       "</div>"
      ],
      "text/plain": [
       "                        created_on                  name  database_name  \\\n",
       "0 2023-06-20 00:52:23.656000-07:00             ML_MODELS  STOCK_PRED_DB   \n",
       "1 2023-06-19 00:54:41.392000-07:00  PRICE_PRED_GCS_STAGE  STOCK_PRED_DB   \n",
       "\n",
       "         schema_name                                url has_credentials  \\\n",
       "0  STOCK_PRED_SCHEMA                                                  N   \n",
       "1  STOCK_PRED_SCHEMA  gcs://data_lake_datatalks-386314/               N   \n",
       "\n",
       "  has_encryption_key         owner comment region      type cloud  \\\n",
       "0                  N  ACCOUNTADMIN           None  INTERNAL  None   \n",
       "1                  N  ACCOUNTADMIN                 EXTERNAL   GCP   \n",
       "\n",
       "  notification_channel storage_integration  \n",
       "0                 None                None  \n",
       "1                 None     GCS_INTEGRATION  "
      ]
     },
     "execution_count": 6,
     "metadata": {},
     "output_type": "execute_result"
    }
   ],
   "source": [
    "pd.DataFrame(session.sql('SHOW STAGES').collect())"
   ]
  },
  {
   "attachments": {},
   "cell_type": "markdown",
   "id": "d2fc8ed7",
   "metadata": {},
   "source": [
    "### Create a procedure"
   ]
  },
  {
   "cell_type": "code",
   "execution_count": 14,
   "id": "e43d7ed6",
   "metadata": {},
   "outputs": [],
   "source": [
    "def sproc_predict_using_prophet(session: Session, \n",
    "                                training_table: str,\n",
    "                                include_history: str,\n",
    "                                period: int) -> T.Variant:\n",
    "    \n",
    "    # Loading data into pandas dataframe\n",
    "    data_sdf = session.table(training_table)    \n",
    "    data = data_sdf.select('DATE','CLOSE').collect()\n",
    "    data = pd.DataFrame(data, columns=['ds', 'y'])\n",
    "    data.dropna(axis=0, inplace=True) \n",
    "    data.drop_duplicates(subset='ds', keep=\"last\", inplace=True)\n",
    "    data.sort_values(by='ds', inplace=True)\n",
    "    \n",
    "    # Actual model training\n",
    "    from prophet import Prophet\n",
    "     \n",
    "    model = Prophet(changepoint_prior_scale=0.5,\n",
    "                    seasonality_prior_scale=0.01,\n",
    "                    seasonality_mode='additive',\n",
    "                    changepoint_range=0.99\n",
    "                       )\n",
    "    model.fit(data)\n",
    "    \n",
    "    if include_history == 'Y':\n",
    "        flag = True\n",
    "    else:\n",
    "        flag = False\n",
    "        \n",
    "    future_df = model.make_future_dataframe(periods=period,\n",
    "                                           include_history=flag)\n",
    "    forecast = model.predict(future_df)\n",
    "  \n",
    "    return forecast.to_dict()"
   ]
  },
  {
   "cell_type": "code",
   "execution_count": 15,
   "id": "b97e8e75",
   "metadata": {},
   "outputs": [],
   "source": [
    "session.add_packages('snowflake-snowpark-python','prophet')\n",
    "# Create stored procedure\n",
    "sproc_predict_using_prophet = session.sproc.register(func=sproc_predict_using_prophet, \n",
    "                                            name='sproc_predict_using_prophet', \n",
    "                                            is_permanent=True, \n",
    "                                            replace=True, \n",
    "                                            stage_location='@ML_MODELS', \n",
    "                                            packages=['snowflake-snowpark-python','prophet'])"
   ]
  },
  {
   "attachments": {},
   "cell_type": "markdown",
   "id": "1de2e5fb",
   "metadata": {},
   "source": [
    "### Test the procedure"
   ]
  },
  {
   "cell_type": "code",
   "execution_count": 16,
   "id": "820748dc",
   "metadata": {},
   "outputs": [
    {
     "data": {
      "text/html": [
       "<div>\n",
       "<style scoped>\n",
       "    .dataframe tbody tr th:only-of-type {\n",
       "        vertical-align: middle;\n",
       "    }\n",
       "\n",
       "    .dataframe tbody tr th {\n",
       "        vertical-align: top;\n",
       "    }\n",
       "\n",
       "    .dataframe thead th {\n",
       "        text-align: right;\n",
       "    }\n",
       "</style>\n",
       "<table border=\"1\" class=\"dataframe\">\n",
       "  <thead>\n",
       "    <tr style=\"text-align: right;\">\n",
       "      <th></th>\n",
       "      <th>DATE</th>\n",
       "      <th>PRICE</th>\n",
       "    </tr>\n",
       "  </thead>\n",
       "  <tbody>\n",
       "    <tr>\n",
       "      <th>0</th>\n",
       "      <td>2023-06-20</td>\n",
       "      <td>162.082714</td>\n",
       "    </tr>\n",
       "    <tr>\n",
       "      <th>1</th>\n",
       "      <td>2023-06-21</td>\n",
       "      <td>162.144327</td>\n",
       "    </tr>\n",
       "    <tr>\n",
       "      <th>2</th>\n",
       "      <td>2023-06-22</td>\n",
       "      <td>162.151188</td>\n",
       "    </tr>\n",
       "    <tr>\n",
       "      <th>3</th>\n",
       "      <td>2023-06-23</td>\n",
       "      <td>162.189951</td>\n",
       "    </tr>\n",
       "  </tbody>\n",
       "</table>\n",
       "</div>"
      ],
      "text/plain": [
       "         DATE       PRICE\n",
       "0  2023-06-20  162.082714\n",
       "1  2023-06-21  162.144327\n",
       "2  2023-06-22  162.151188\n",
       "3  2023-06-23  162.189951"
      ]
     },
     "execution_count": 16,
     "metadata": {},
     "output_type": "execute_result"
    }
   ],
   "source": [
    "# run the stored procedure for 10 futur days\n",
    "training_table = 'historical_prices'\n",
    "show_history='N'\n",
    "future_days=10\n",
    "\n",
    "pred_list = session.sql(\n",
    "            \"call sproc_predict_using_prophet('{}', '{}',{})\".format(training_table,show_history, future_days)   \n",
    "            ).collect()\n",
    "\n",
    "pred_df = pd.DataFrame(json.loads(pred_list[0][0]))\n",
    "pred_df = pred_df[['ds','yhat']]\n",
    "pred_df['ds'] = pd.to_datetime(pred_df['ds']).dt.date\n",
    "pred_df.columns = ['DATE', 'PRICE']\n",
    "pred_df"
   ]
  },
  {
   "cell_type": "code",
   "execution_count": null,
   "id": "b5191dda",
   "metadata": {},
   "outputs": [],
   "source": []
  }
 ],
 "metadata": {
  "kernelspec": {
   "display_name": "stocksenv_3.8",
   "language": "python",
   "name": "snowpack"
  },
  "language_info": {
   "codemirror_mode": {
    "name": "ipython",
    "version": 3
   },
   "file_extension": ".py",
   "mimetype": "text/x-python",
   "name": "python",
   "nbconvert_exporter": "python",
   "pygments_lexer": "ipython3",
   "version": "3.8.16"
  }
 },
 "nbformat": 4,
 "nbformat_minor": 5
}
